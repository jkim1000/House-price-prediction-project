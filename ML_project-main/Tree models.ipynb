{
 "cells": [
  {
   "cell_type": "code",
   "execution_count": 87,
   "metadata": {},
   "outputs": [],
   "source": [
    "%matplotlib inline\n",
    "import numpy as np\n",
    "import pandas as pd\n",
    "import seaborn as sns\n",
    "import scipy.stats as stats\n",
    "from scipy.stats import norm\n",
    "import statsmodels.api as sm\n",
    "import matplotlib.pyplot as plt\n",
    "import warnings\n",
    "warnings.filterwarnings(action=\"ignore\")"
   ]
  },
  {
   "cell_type": "code",
   "execution_count": 115,
   "metadata": {},
   "outputs": [],
   "source": [
    "train = pd.read_csv('train.csv', index_col = 0)\n",
    "test = pd.read_csv('test.csv', index_col = 0)\n"
   ]
  },
  {
   "cell_type": "code",
   "execution_count": 116,
   "metadata": {},
   "outputs": [],
   "source": [
    "#dropping features that have more than 80% missing\n",
    "train = train.drop(['PoolQC', 'MiscFeature', 'Alley', 'Fence'], axis = 1)"
   ]
  },
  {
   "cell_type": "code",
   "execution_count": 117,
   "metadata": {},
   "outputs": [],
   "source": [
    "test = test.drop(['PoolQC', 'MiscFeature', 'Alley', 'Fence'], axis = 1)"
   ]
  },
  {
   "cell_type": "code",
   "execution_count": 118,
   "metadata": {},
   "outputs": [],
   "source": [
    "train['FireplaceQu'] = train['FireplaceQu'].fillna('None')\n",
    "train['GarageFinish'] = train['GarageFinish'].fillna('None')\n",
    "train['GarageQual'] = train['GarageQual'].fillna('None')\n",
    "train['GarageCond'] = train['GarageCond'].fillna('None')\n",
    "train['GarageType'] = train['GarageType'].fillna('None')\n",
    "train['BsmtExposure'] = train['BsmtExposure'].fillna('None')\n",
    "train['BsmtCond'] = train['BsmtCond'].fillna('None')\n",
    "train['BsmtQual'] = train['BsmtQual'].fillna('None')\n",
    "train['BsmtFinType2'] = train['BsmtFinType2'].fillna('None')\n",
    "train['BsmtFinType1'] = train['BsmtFinType1'].fillna('None')\n",
    "train['MasVnrType'] = train['MasVnrType'].fillna('None')\n",
    "train['Electrical'] = train['Electrical'].fillna('SBrkr')\n",
    "\n",
    "numerical = ['MasVnrArea','GarageYrBlt', 'TotalBsmtSF','GarageArea','GarageCars','BsmtUnfSF',\n",
    "'BsmtFinSF2','BsmtFinSF1','BsmtHalfBath','BsmtFullBath']\n",
    "for col in numerical:\n",
    "    train[col] = train[col].fillna(0)\n",
    "\n",
    "for column in ['KitchenQual', 'Electrical', 'SaleType','Exterior1st', 'Exterior2nd', 'Functional','Utilities', 'MSZoning']:\n",
    "    train[column].fillna(train[column].mode()[0], inplace=True)\n",
    "    \n",
    "#fill NA columns with NE ('Not Exist') or 0 because not having a particular feature doesn't mean the observation for that feature is missing"
   ]
  },
  {
   "cell_type": "code",
   "execution_count": 119,
   "metadata": {},
   "outputs": [],
   "source": [
    "test['FireplaceQu'] = test['FireplaceQu'].fillna('None')\n",
    "test['GarageFinish'] = test['GarageFinish'].fillna('None')\n",
    "test['GarageQual'] = test['GarageQual'].fillna('None')\n",
    "test['GarageCond'] = test['GarageCond'].fillna('None')\n",
    "test['GarageType'] = test['GarageType'].fillna('None')\n",
    "test['BsmtExposure'] = test['BsmtExposure'].fillna('None')\n",
    "test['BsmtCond'] = test['BsmtCond'].fillna('None')\n",
    "test['BsmtQual'] = test['BsmtQual'].fillna('None')\n",
    "test['BsmtFinType2'] = test['BsmtFinType2'].fillna('None')\n",
    "test['BsmtFinType1'] = test['BsmtFinType1'].fillna('None')\n",
    "test['MasVnrType'] = test['MasVnrType'].fillna('None')\n",
    "test['Electrical'] = test['Electrical'].fillna('SBrkr')\n",
    "\n",
    "numerical = ['MasVnrArea','GarageYrBlt', 'TotalBsmtSF','GarageArea','GarageCars','BsmtUnfSF',\n",
    "'BsmtFinSF2','BsmtFinSF1','BsmtHalfBath','BsmtFullBath']\n",
    "for col in numerical:\n",
    "    test[col] = test[col].fillna(0)\n",
    "\n",
    "for column in ['KitchenQual', 'Electrical', 'SaleType','Exterior1st', 'Exterior2nd', 'Functional','Utilities', 'MSZoning']:\n",
    "    test[column].fillna(test[column].mode()[0], inplace=True)"
   ]
  },
  {
   "cell_type": "code",
   "execution_count": 120,
   "metadata": {},
   "outputs": [],
   "source": [
    "missing = np.sum(train.isnull())\n",
    "low_missing = (missing[missing>0]/train.shape[0]).sort_values(ascending = False)\n",
    "\n",
    "for i in low_missing[low_missing<0.0007].index:\n",
    "    train[i].fillna(train[i].mode()[0], inplace=True)\n",
    "\n",
    "#Filling in missing values that are less than 0.0007 with mode "
   ]
  },
  {
   "cell_type": "code",
   "execution_count": 121,
   "metadata": {},
   "outputs": [],
   "source": [
    "missing = np.sum(test.isnull())\n",
    "low_missing = (missing[missing>0]/test.shape[0]).sort_values(ascending = False)\n",
    "\n",
    "for i in low_missing[low_missing<0.0007].index:\n",
    "    test[i].fillna(test[i].mode()[0], inplace=True)\n",
    "#Filling in missing values that are less than 0.0007 with mode "
   ]
  },
  {
   "cell_type": "code",
   "execution_count": 122,
   "metadata": {},
   "outputs": [],
   "source": [
    "from sklearn.impute import KNNImputer\n",
    "\n",
    "LotFrontage = train['LotFrontage'].tolist()\n",
    "FlrSF = train['1stFlrSF'].tolist()\n",
    "LotArea = train['LotArea'].tolist()\n",
    "GrLivArea = train['GrLivArea'].tolist()\n",
    "data = {'LotFrontage': LotFrontage, '1FlrSF':FlrSF, 'LotArea' :LotArea, 'GrLivArea': GrLivArea}\n",
    "lot = pd.DataFrame(data)\n",
    "\n",
    "\n",
    "imputer = KNNImputer(n_neighbors=3)\n",
    "imputed = imputer.fit_transform(lot)\n",
    "lot_imputed = pd.DataFrame(imputed, columns=lot.columns, index=range(1, 1461))\n",
    "\n",
    "train['LotFrontage'] = lot_imputed['LotFrontage']"
   ]
  },
  {
   "cell_type": "code",
   "execution_count": 123,
   "metadata": {},
   "outputs": [],
   "source": [
    "from sklearn.impute import KNNImputer\n",
    "\n",
    "LotFrontage = test['LotFrontage'].tolist()\n",
    "FlrSF = test['1stFlrSF'].tolist()\n",
    "LotArea = test['LotArea'].tolist()\n",
    "GrLivArea = test['GrLivArea'].tolist()\n",
    "data = {'LotFrontage': LotFrontage, '1FlrSF':FlrSF, 'LotArea' :LotArea, 'GrLivArea': GrLivArea}\n",
    "lot = pd.DataFrame(data)\n",
    "\n",
    "\n",
    "imputer = KNNImputer(n_neighbors=3)\n",
    "imputed = imputer.fit_transform(lot)\n",
    "lot_imputed = pd.DataFrame(imputed, columns=lot.columns, index=range(1461, 2920))\n",
    "\n",
    "test['LotFrontage'] = lot_imputed['LotFrontage']"
   ]
  },
  {
   "cell_type": "code",
   "execution_count": 124,
   "metadata": {},
   "outputs": [],
   "source": [
    "train['MSSubClass'] = train['MSSubClass'].apply(str)\n",
    "train['MoSold'] = train['MoSold'].apply(str)\n",
    "\n",
    "#Convert \"numerical\" features to categorical features"
   ]
  },
  {
   "cell_type": "code",
   "execution_count": 130,
   "metadata": {},
   "outputs": [],
   "source": [
    "train['YrSold'] = train['YrSold'].apply(str)"
   ]
  },
  {
   "cell_type": "code",
   "execution_count": 125,
   "metadata": {},
   "outputs": [],
   "source": [
    "test['MSSubClass'] = test['MSSubClass'].apply(str)\n",
    "test['MoSold'] = test['MoSold'].apply(str)\n"
   ]
  },
  {
   "cell_type": "code",
   "execution_count": 131,
   "metadata": {},
   "outputs": [],
   "source": [
    "test['YrSold'] = test['YrSold'].apply(str)"
   ]
  },
  {
   "cell_type": "code",
   "execution_count": 126,
   "metadata": {},
   "outputs": [],
   "source": [
    "train['TotalBath'] = (train['FullBath'] + (0.5 * train['HalfBath']) +\n",
    "                               train['BsmtFullBath'] + (0.5 * train['BsmtHalfBath']))\n",
    "\n",
    "train['TotalSF'] = train['TotalBsmtSF'] + train['1stFlrSF'] + train['2ndFlrSF']\n",
    "\n",
    "train['OverallScore'] = train['OverallQual'] + train['OverallCond']\n",
    "\n",
    "train['HouseAge'] = train['YearRemodAdd'] - train['YrSold']\n",
    "\n",
    "train['OverallPorch'] = (train['OpenPorchSF'] + train['3SsnPorch'] + train['EnclosedPorch'] \n",
    "                + train['ScreenPorch'] + train['WoodDeckSF'])\n",
    "# check EnclosedPorch\n",
    "\n",
    "\n",
    "train['BaseArea'] = train['TotalBsmtSF'] - train['BsmtUnfSF']\n",
    "\n",
    "# train['PriceSF'] = train['SalePrice'] / train['GrLivArea']\n",
    "\n",
    "train['HouseAge'] = train.apply(lambda x: x['YrSold']-x['YearBuilt'] if (x['YearBuilt']<x['YearRemodAdd']) \n",
    "                                                           else (x['YrSold']-x['YearRemodAdd']), axis=1)\n",
    "\n"
   ]
  },
  {
   "cell_type": "code",
   "execution_count": 127,
   "metadata": {},
   "outputs": [],
   "source": [
    "test['TotalBath'] = (test['FullBath'] + (0.5 * test['HalfBath']) +\n",
    "                               test['BsmtFullBath'] + (0.5 * test['BsmtHalfBath']))\n",
    "\n",
    "test['TotalSF'] = test['TotalBsmtSF'] + test['1stFlrSF'] + test['2ndFlrSF']\n",
    "\n",
    "test['OverallScore'] = test['OverallQual'] + test['OverallCond']\n",
    "\n",
    "test['HouseAge'] = test['YearRemodAdd'] - test['YrSold']\n",
    "\n",
    "test['OverallPorch'] = (test['OpenPorchSF'] + test['3SsnPorch'] + test['EnclosedPorch'] \n",
    "                + test['ScreenPorch'] + test['WoodDeckSF'])\n",
    "# check EnclosedPorch\n",
    "\n",
    "test['BaseArea'] = test['TotalBsmtSF'] - test['BsmtUnfSF']\n",
    "\n",
    "# test['PriceSF'] = test['SalePrice'] / test['GrLivArea']\n",
    "\n",
    "test['HouseAge'] = test.apply(lambda x: x['YrSold']-x['YearBuilt'] if (x['YearBuilt']<x['YearRemodAdd']) \n",
    "                                                           else (x['YrSold']-x['YearRemodAdd']), axis=1)\n",
    "\n"
   ]
  },
  {
   "cell_type": "code",
   "execution_count": 128,
   "metadata": {},
   "outputs": [],
   "source": [
    "train['haspool'] = train['PoolArea'].apply(lambda x: 1 if x > 0 else 0)\n",
    "train['has2ndfloor'] = train['2ndFlrSF'].apply(lambda x: 1 if x > 0 else 0)\n",
    "train['hasgarage'] = train['GarageArea'].apply(lambda x: 1 if x > 0 else 0)\n",
    "train['hasbsmt'] = train['TotalBsmtSF'].apply(lambda x: 1 if x > 0 else 0)\n",
    "train['hasfireplace'] = train['Fireplaces'].apply(lambda x: 1 if x > 0 else 0)"
   ]
  },
  {
   "cell_type": "code",
   "execution_count": 129,
   "metadata": {},
   "outputs": [],
   "source": [
    "test['haspool'] = test['PoolArea'].apply(lambda x: 1 if x > 0 else 0)\n",
    "test['has2ndfloor'] = test['2ndFlrSF'].apply(lambda x: 1 if x > 0 else 0)\n",
    "test['hasgarage'] = test['GarageArea'].apply(lambda x: 1 if x > 0 else 0)\n",
    "test['hasbsmt'] = test['TotalBsmtSF'].apply(lambda x: 1 if x > 0 else 0)\n",
    "test['hasfireplace'] = test['Fireplaces'].apply(lambda x: 1 if x > 0 else 0)"
   ]
  },
  {
   "cell_type": "code",
   "execution_count": 132,
   "metadata": {},
   "outputs": [],
   "source": [
    "train_dummy = pd.get_dummies(train)"
   ]
  },
  {
   "cell_type": "code",
   "execution_count": 133,
   "metadata": {},
   "outputs": [],
   "source": [
    "test_dummy = pd.get_dummies(test)"
   ]
  },
  {
   "cell_type": "code",
   "execution_count": 134,
   "metadata": {},
   "outputs": [],
   "source": [
    "numeric_features = train.dtypes[train.dtypes != object].index\n",
    "skewed_features = train[numeric_features].apply(lambda x: skew(x)).sort_values(ascending=False)\n",
    "high_skew = skewed_features[skewed_features > 0.5]\n",
    "skew_index = high_skew.index\n",
    "\n",
    "# Normalize skewed features using log_transformation\n",
    "    \n",
    "for i in skew_index:\n",
    "    train[i] = np.log1p(train[i])"
   ]
  },
  {
   "cell_type": "code",
   "execution_count": 135,
   "metadata": {},
   "outputs": [],
   "source": [
    "numeric_features = test.dtypes[test.dtypes != object].index\n",
    "skewed_features = test[numeric_features].apply(lambda x: skew(x)).sort_values(ascending=False)\n",
    "high_skew = skewed_features[skewed_features > 0.5]\n",
    "skew_index = high_skew.index\n",
    "\n",
    "# Normalize skewed features using log_transformation\n",
    "    \n",
    "for i in skew_index:\n",
    "    test[i] = np.log1p(test[i])"
   ]
  },
  {
   "cell_type": "code",
   "execution_count": 145,
   "metadata": {},
   "outputs": [
    {
     "data": {
      "text/plain": [
       "Id\n",
       "1       208500\n",
       "2       181500\n",
       "3       223500\n",
       "4       140000\n",
       "5       250000\n",
       "         ...  \n",
       "1456    175000\n",
       "1457    210000\n",
       "1458    266500\n",
       "1459    142125\n",
       "1460    147500\n",
       "Name: SalePrice, Length: 1460, dtype: int64"
      ]
     },
     "execution_count": 145,
     "metadata": {},
     "output_type": "execute_result"
    }
   ],
   "source": [
    "train_dummy.SalePrice"
   ]
  },
  {
   "cell_type": "code",
   "execution_count": 146,
   "metadata": {},
   "outputs": [],
   "source": [
    "saleprice = train_dummy.SalePrice\n",
    "X = train_dummy.drop(['SalePrice'], axis=1)\n",
    "y = np.log(saleprice)"
   ]
  },
  {
   "cell_type": "code",
   "execution_count": 147,
   "metadata": {},
   "outputs": [],
   "source": [
    "from sklearn.model_selection import train_test_split\n",
    "X_train, X_test, y_train, y_test = train_test_split(X, y, test_size=0.3, random_state=0)"
   ]
  },
  {
   "cell_type": "code",
   "execution_count": 160,
   "metadata": {},
   "outputs": [],
   "source": [
    "from sklearn import metrics\n",
    "from sklearn.model_selection import cross_val_score\n",
    "\n",
    "def evaluate(true, predicted):  \n",
    "    mae = metrics.mean_absolute_error(true, predicted)\n",
    "    mse = metrics.mean_squared_error(true, predicted)\n",
    "    rmse = np.sqrt(metrics.mean_squared_error(true, predicted))\n",
    "    r2_square = metrics.r2_score(true, predicted)\n",
    "    print('MAE:', mae)\n",
    "    print('MSE:', mse)\n",
    "    print('RMSE:', rmse)\n",
    "    print('R2 Square', r2_square)"
   ]
  },
  {
   "cell_type": "code",
   "execution_count": 148,
   "metadata": {},
   "outputs": [],
   "source": [
    "def rmse(y, y_pred):\n",
    "    return np.sqrt(mean_squared_error(y, y_pred))\n",
    "\n",
    "def cv_rmse(model):\n",
    "    rmse = np.sqrt(-cross_val_score(model, X_train, y_train, scoring=\"neg_mean_squared_error\", cv=kf))\n",
    "    return (rmse)"
   ]
  },
  {
   "cell_type": "code",
   "execution_count": 166,
   "metadata": {},
   "outputs": [],
   "source": [
    "import xgboost as xgb\n",
    "from sklearn.naive_bayes import GaussianNB\n",
    "from sklearn.tree import DecisionTreeRegressor\n",
    "from sklearn.model_selection import RepeatedKFold\n",
    "from sklearn.model_selection import KFold, cross_val_score\n",
    "from sklearn.model_selection import train_test_split\n",
    "from sklearn.ensemble import GradientBoostingRegressor, RandomForestRegressor\n",
    "from sklearn.model_selection import GridSearchCV, RandomizedSearchCV\n",
    "from sklearn.metrics import mean_squared_error, mean_absolute_error, mean_squared_log_error"
   ]
  },
  {
   "cell_type": "code",
   "execution_count": 167,
   "metadata": {},
   "outputs": [],
   "source": [
    "\n",
    "kf = KFold(n_splits=10, random_state=42, shuffle=True)\n",
    "\n",
    "cv_scores = []\n",
    "cv_std = []\n",
    "\n",
    "baseline_models = ['Dec_Tree_Reg.','Random_Forest_Reg.', 'XGB_Reg.',\n",
    "                   'Grad_Boost_Reg.']\n",
    "\n",
    "\n",
    "\n",
    "# Decision Tree Regressor\n",
    "\n",
    "dtr = DecisionTreeRegressor()\n",
    "score_dtr = cv_rmse(dtr)\n",
    "cv_scores.append(score_dtr.mean())\n",
    "cv_std.append(score_dtr.std())\n",
    "\n",
    "# Random Forest Regressor\n",
    "\n",
    "rfr = RandomForestRegressor()\n",
    "score_rfr = cv_rmse(rfr)\n",
    "cv_scores.append(score_rfr.mean())\n",
    "cv_std.append(score_rfr.std())\n",
    "\n",
    "# XGB Regressor\n",
    "\n",
    "xgb = xgb.XGBRegressor()\n",
    "score_xgb = cv_rmse(xgb)\n",
    "cv_scores.append(score_xgb.mean())\n",
    "cv_std.append(score_xgb.std())\n",
    "\n",
    "# Gradient Boost Regressor\n",
    "\n",
    "gbr = GradientBoostingRegressor()\n",
    "score_gbr = cv_rmse(gbr)\n",
    "cv_scores.append(score_gbr.mean())\n",
    "cv_std.append(score_gbr.std())\n",
    "\n",
    "\n",
    "\n",
    "final_cv_score = pd.DataFrame(baseline_models, columns = ['Regressors'])\n",
    "final_cv_score['RMSE_mean'] = cv_scores\n",
    "final_cv_score['RMSE_std'] = cv_std"
   ]
  },
  {
   "cell_type": "code",
   "execution_count": 168,
   "metadata": {},
   "outputs": [
    {
     "data": {
      "text/html": [
       "<div>\n",
       "<style scoped>\n",
       "    .dataframe tbody tr th:only-of-type {\n",
       "        vertical-align: middle;\n",
       "    }\n",
       "\n",
       "    .dataframe tbody tr th {\n",
       "        vertical-align: top;\n",
       "    }\n",
       "\n",
       "    .dataframe thead th {\n",
       "        text-align: right;\n",
       "    }\n",
       "</style>\n",
       "<table border=\"1\" class=\"dataframe\">\n",
       "  <thead>\n",
       "    <tr style=\"text-align: right;\">\n",
       "      <th></th>\n",
       "      <th>Regressors</th>\n",
       "      <th>RMSE_mean</th>\n",
       "      <th>RMSE_std</th>\n",
       "    </tr>\n",
       "  </thead>\n",
       "  <tbody>\n",
       "    <tr>\n",
       "      <th>0</th>\n",
       "      <td>Dec_Tree_Reg.</td>\n",
       "      <td>0.204427</td>\n",
       "      <td>0.023334</td>\n",
       "    </tr>\n",
       "    <tr>\n",
       "      <th>1</th>\n",
       "      <td>Random_Forest_Reg.</td>\n",
       "      <td>0.141902</td>\n",
       "      <td>0.018336</td>\n",
       "    </tr>\n",
       "    <tr>\n",
       "      <th>2</th>\n",
       "      <td>XGB_Reg.</td>\n",
       "      <td>0.143610</td>\n",
       "      <td>0.022599</td>\n",
       "    </tr>\n",
       "    <tr>\n",
       "      <th>3</th>\n",
       "      <td>Grad_Boost_Reg.</td>\n",
       "      <td>0.132802</td>\n",
       "      <td>0.020820</td>\n",
       "    </tr>\n",
       "  </tbody>\n",
       "</table>\n",
       "</div>"
      ],
      "text/plain": [
       "           Regressors  RMSE_mean  RMSE_std\n",
       "0       Dec_Tree_Reg.   0.204427  0.023334\n",
       "1  Random_Forest_Reg.   0.141902  0.018336\n",
       "2            XGB_Reg.   0.143610  0.022599\n",
       "3     Grad_Boost_Reg.   0.132802  0.020820"
      ]
     },
     "execution_count": 168,
     "metadata": {},
     "output_type": "execute_result"
    }
   ],
   "source": [
    "final_cv_score"
   ]
  },
  {
   "cell_type": "code",
   "execution_count": 169,
   "metadata": {},
   "outputs": [
    {
     "data": {
      "image/png": "[encoded data removed]",
      "text/plain": [
       "<Figure size 864x576 with 1 Axes>"
      ]
     },
     "metadata": {
      "needs_background": "light"
     },
     "output_type": "display_data"
    }
   ],
   "source": [
    "plt.figure(figsize = (12,8))\n",
    "sns.barplot(final_cv_score['Regressors'],final_cv_score['RMSE_mean'])\n",
    "plt.xlabel('Regressors', fontsize = 12)\n",
    "plt.ylabel('CV_Mean_RMSE', fontsize = 12)\n",
    "plt.xticks(rotation=45)\n",
    "plt.show()"
   ]
  },
  {
   "cell_type": "code",
   "execution_count": 170,
   "metadata": {},
   "outputs": [],
   "source": [
    "\n",
    "def cv_rmse(model):\n",
    "    rmse = np.sqrt(-cross_val_score(model, X_train, y_train, scoring=\"neg_mean_squared_error\", cv=5))\n",
    "    return (rmse)"
   ]
  },
  {
   "cell_type": "code",
   "execution_count": 199,
   "metadata": {},
   "outputs": [
    {
     "data": {
      "text/plain": [
       "RandomForestRegressor(bootstrap=False, max_depth=6, max_features=8,\n",
       "                      n_estimators=500, random_state=42)"
      ]
     },
     "execution_count": 199,
     "metadata": {},
     "output_type": "execute_result"
    }
   ],
   "source": [
    "rf = RandomForestRegressor(bootstrap= False,\n",
    "                    ccp_alpha= 0.0,\n",
    "                    criterion= 'mse',\n",
    "                    max_depth= 6,\n",
    "                    max_features= 8,\n",
    "                    max_leaf_nodes= None,\n",
    "                    max_samples= None,\n",
    "                    min_samples_leaf= 1,\n",
    "                    min_samples_split= 2,\n",
    "                    n_estimators= 500,\n",
    "                    random_state= 42)\n",
    "\n",
    "rf.fit(X_train, y_train)"
   ]
  },
  {
   "cell_type": "code",
   "execution_count": 200,
   "metadata": {},
   "outputs": [
    {
     "name": "stdout",
     "output_type": "stream",
     "text": [
      "R^2 for train data is: 0.863\n",
      "R^2 for test data is: 0.827\n",
      "--------------------------------------------------\n",
      "RMSE for train data is: 0.149\n",
      "RMSE for test data is: 0.164\n",
      "--------------------------------------------------\n",
      "MAE for train data is: 0.1058\n",
      "MAE for test data is: 0.1128\n"
     ]
    }
   ],
   "source": [
    "train_baseline_rf = rf.predict(X_train)\n",
    "RMSE_train4 = np.sqrt(mean_squared_error(y_train, train_baseline_rf))\n",
    "MAE_train4 = mean_absolute_error(y_train, train_baseline_rf)\n",
    "\n",
    "\n",
    "test_baseline_rf = rf.predict(X_test)\n",
    "RMSE_test4 = np.sqrt(mean_squared_error(y_test,test_baseline_rf))\n",
    "MAE_test4 = mean_absolute_error(y_test,test_baseline_rf)\n",
    "\n",
    "print(\"R^2 for train data is: %.3f\" %(rf.score(X_train, y_train)))\n",
    "print(\"R^2 for test data is: %.3f\" %(rf.score(X_test,y_test)))\n",
    "print(\"-\" * 50)\n",
    "print(\"RMSE for train data is: %.3f\" % RMSE_train4)\n",
    "print(\"RMSE for test data is: %.3f\" % RMSE_test4)\n",
    "print(\"-\" * 50)\n",
    "print(\"MAE for train data is: %.4f\" % MAE_train4)\n",
    "print(\"MAE for test data is: %.4f\" % MAE_test4)"
   ]
  },
  {
   "cell_type": "code",
   "execution_count": null,
   "metadata": {},
   "outputs": [],
   "source": []
  },
  {
   "cell_type": "code",
   "execution_count": null,
   "metadata": {},
   "outputs": [],
   "source": []
  },
  {
   "cell_type": "code",
   "execution_count": null,
   "metadata": {},
   "outputs": [],
   "source": []
  },
  {
   "cell_type": "code",
   "execution_count": null,
   "metadata": {},
   "outputs": [],
   "source": []
  },
  {
   "cell_type": "code",
   "execution_count": 182,
   "metadata": {},
   "outputs": [
    {
     "data": {
      "text/plain": [
       "Text(0.5, 1.0, 'Feature Importance Plot for XG Boosting')"
      ]
     },
     "execution_count": 182,
     "metadata": {},
     "output_type": "execute_result"
    },
    {
     "data": {
      "text/plain": [
       "<Figure size 1080x1440 with 0 Axes>"
      ]
     },
     "metadata": {},
     "output_type": "display_data"
    },
    {
     "data": {
      "image/png": "[encoded data removed]",
      "text/plain": [
       "<Figure size 432x288 with 1 Axes>"
      ]
     },
     "metadata": {
      "needs_background": "light"
     },
     "output_type": "display_data"
    }
   ],
   "source": [
    "sorted_importance = sorted(zip(X_train.columns, random_forest.best_estimator_.feature_importances_), key=lambda t:t[1], reverse=True)\n",
    "sorted_importance\n",
    "\n",
    "# create bar chart of XGBoost sorted important features\n",
    "plt.figure(figsize = ((15, 20)))\n",
    "a, b = zip(*sorted_importance) # this splits the list of tuples into two lists\n",
    "pd.DataFrame({'feature_name':a, 'importance_score':b}).head(20).plot.bar(x='feature_name',y='importance_score', legend=None, figsize = (6,4))\n",
    "plt.title('Feature Importance Plot for XG Boosting')"
   ]
  },
  {
   "cell_type": "code",
   "execution_count": 185,
   "metadata": {},
   "outputs": [
    {
     "data": {
      "text/plain": [
       "(9.5, -0.5)"
      ]
     },
     "execution_count": 185,
     "metadata": {},
     "output_type": "execute_result"
    },
    {
     "data": {
      "image/png": "[encoded data removed]",
      "text/plain": [
       "<Figure size 1440x864 with 1 Axes>"
      ]
     },
     "metadata": {
      "needs_background": "light"
     },
     "output_type": "display_data"
    }
   ],
   "source": [
    "#feature importance graph\n",
    "sorted_importance = sorted(zip(X_train.columns, random_forest.best_estimator_.feature_importances_), key=lambda t:t[1], reverse=True)\n",
    "a, b = zip(*sorted_importance)\n",
    "plt.figure(figsize = (20,12))\n",
    "df = pd.DataFrame({'feature_name':a, 'importance_score':b})\n",
    "ax = sns.barplot(data = df, x = 'importance_score', y= 'feature_name', orient = 'h');\n",
    "plt.title('Top 10 Feature Importance with Random Forest')\n",
    "plt.xlabel('Feature Importance Score')\n",
    "plt.ylabel('Features')\n",
    "plt.ylim(bottom=(9.5,-0.5))"
   ]
  },
  {
   "cell_type": "code",
   "execution_count": 186,
   "metadata": {},
   "outputs": [
    {
     "data": {
      "text/plain": [
       "GradientBoostingRegressor(learning_rate=0.01, max_depth=2, max_features=15,\n",
       "                          n_estimators=1000)"
      ]
     },
     "execution_count": 186,
     "metadata": {},
     "output_type": "execute_result"
    }
   ],
   "source": [
    "gbm = GradientBoostingRegressor(n_estimators=1000,\n",
    "                                 learning_rate=0.01,\n",
    "                                 max_depth=2,\n",
    "                                 max_features=15)\n",
    "\n",
    "gbm.fit(X_train, y_train)"
   ]
  },
  {
   "cell_type": "code",
   "execution_count": 190,
   "metadata": {},
   "outputs": [
    {
     "name": "stdout",
     "output_type": "stream",
     "text": [
      "Final Values: \n",
      "R^2 for train data is: 0.934\n",
      "R^2 for test data is: 0.896\n",
      "--------------------------------------------------\n",
      "RMSE for train data is: 0.103\n",
      "RMSE for test data is: 0.127\n",
      "--------------------------------------------------\n",
      "MAE for train data is: 0.0741\n",
      "MAE for test data is: 0.0873\n"
     ]
    }
   ],
   "source": [
    "train_baseline_gbm = gbm.predict(X_train)\n",
    "RMSE_train5 = np.sqrt(mean_squared_error(y_train, train_baseline_gbm))\n",
    "MAE_train5 = mean_absolute_error(y_train, train_baseline_gbm)\n",
    "\n",
    "\n",
    "test_baseline_gbm = gbm.predict(X_test)\n",
    "RMSE_test5 = np.sqrt(mean_squared_error(y_test,test_baseline_gbm))\n",
    "MAE_test5 = mean_absolute_error(y_test,test_baseline_gbm)\n",
    "\n",
    "\n",
    "print(\"Final Values: \")\n",
    "print(\"R^2 for train data is: %.3f\" %(gbm.score(X_train, y_train)))\n",
    "print(\"R^2 for test data is: %.3f\" %(gbm.score(X_test,y_test)))\n",
    "print(\"-\" * 50)\n",
    "print(\"RMSE for train data is: %.3f\" % RMSE_train5)\n",
    "print(\"RMSE for test data is: %.3f\" % RMSE_test5)\n",
    "print(\"-\" * 50)\n",
    "print(\"MAE for train data is: %.4f\" % MAE_train5)\n",
    "print(\"MAE for test data is: %.4f\" % MAE_test5)"
   ]
  },
  {
   "cell_type": "code",
   "execution_count": 198,
   "metadata": {},
   "outputs": [
    {
     "data": {
      "text/plain": [
       "(9.5, -0.5)"
      ]
     },
     "execution_count": 198,
     "metadata": {},
     "output_type": "execute_result"
    },
    {
     "data": {
      "image/png": "[encoded data removed]",
      "text/plain": [
       "<Figure size 1440x864 with 1 Axes>"
      ]
     },
     "metadata": {
      "needs_background": "light"
     },
     "output_type": "display_data"
    }
   ],
   "source": [
    "sorted_importance = sorted(zip(X_train.columns, gbm.feature_importances_), key=lambda t:t[1], reverse=True)\n",
    "a, b = zip(*sorted_importance)\n",
    "plt.figure(figsize = (20,12))\n",
    "df = pd.DataFrame({'feature_name':a, 'importance_score':b})\n",
    "ax = sns.barplot(data = df, x = 'importance_score', y= 'feature_name', orient = 'h');\n",
    "plt.title('Top 10 Feature Importance with Gradient Boosting')\n",
    "plt.xlabel('Feature Importance Score')\n",
    "plt.ylabel('Features')\n",
    "plt.ylim(bottom=(9.5,-0.5))"
   ]
  },
  {
   "cell_type": "code",
   "execution_count": 193,
   "metadata": {},
   "outputs": [
    {
     "data": {
      "text/plain": [
       "XGBRegressor(base_score=0.5, booster='gbtree', colsample_bylevel=1,\n",
       "             colsample_bynode=1, colsample_bytree=0.8, gamma=0, gpu_id=-1,\n",
       "             importance_type='gain', interaction_constraints='',\n",
       "             learning_rate=0.01, max_delta_step=0, max_depth=6,\n",
       "             min_child_weight=1, missing=nan, monotone_constraints='()',\n",
       "             n_estimators=1000, n_jobs=0, num_parallel_tree=1, random_state=1,\n",
       "             reg_alpha=0, reg_lambda=1, scale_pos_weight=1, subsample=0.8,\n",
       "             tree_method='exact', validate_parameters=1, verbosity=None)"
      ]
     },
     "execution_count": 193,
     "metadata": {},
     "output_type": "execute_result"
    }
   ],
   "source": [
    "xgb= XGBRegressor(colsample_bytree= 0.8,\n",
    "                        gamma= 0,\n",
    "                        learning_rate=0.01,\n",
    "                        max_depth= 6,\n",
    "                        min_child_weight= 1,\n",
    "                        n_estimators= 1000,\n",
    "                        random_state=1,\n",
    "                        reg_alpha= 0,\n",
    "                        subsample= 0.8)\n",
    "xgb.fit(X_train, y_train)"
   ]
  },
  {
   "cell_type": "code",
   "execution_count": 194,
   "metadata": {},
   "outputs": [
    {
     "name": "stdout",
     "output_type": "stream",
     "text": [
      "Final Values: \n",
      "R^2 for train data is: 0.991\n",
      "R^2 for test data is: 0.904\n",
      "--------------------------------------------------\n",
      "RMSE for train data is: 0.039\n",
      "RMSE for test data is: 0.122\n",
      "--------------------------------------------------\n",
      "MAE for train data is: 0.0293\n",
      "MAE for test data is: 0.0801\n"
     ]
    }
   ],
   "source": [
    "train_baseline_xgb = xgb.predict(X_train)\n",
    "RMSE_train6 = np.sqrt(mean_squared_error(y_train, train_baseline_xgb))\n",
    "MAE_train6 = mean_absolute_error(y_train, train_baseline_xgb)\n",
    "\n",
    "\n",
    "test_baseline_xgb = xgb.predict(X_test)\n",
    "RMSE_test6 = np.sqrt(mean_squared_error(y_test,test_baseline_xgb))\n",
    "MAE_test6 = mean_absolute_error(y_test,test_baseline_xgb)\n",
    "\n",
    "\n",
    "print(\"Final Values: \")\n",
    "print(\"R^2 for train data is: %.3f\" %(xgb.score(X_train, y_train)))\n",
    "print(\"R^2 for test data is: %.3f\" %(xgb.score(X_test,y_test)))\n",
    "print(\"-\" * 50)\n",
    "print(\"RMSE for train data is: %.3f\" % RMSE_train6)\n",
    "print(\"RMSE for test data is: %.3f\" % RMSE_test6)\n",
    "print(\"-\" * 50)\n",
    "print(\"MAE for train data is: %.4f\" % MAE_train6)\n",
    "print(\"MAE for test data is: %.4f\" % MAE_test6)"
   ]
  },
  {
   "cell_type": "code",
   "execution_count": 197,
   "metadata": {},
   "outputs": [
    {
     "data": {
      "text/plain": [
       "(9.5, -0.5)"
      ]
     },
     "execution_count": 197,
     "metadata": {},
     "output_type": "execute_result"
    },
    {
     "data": {
      "image/png": "[encoded data removed]",
      "text/plain": [
       "<Figure size 1440x864 with 1 Axes>"
      ]
     },
     "metadata": {
      "needs_background": "light"
     },
     "output_type": "display_data"
    }
   ],
   "source": [
    "sorted_importance = sorted(zip(X_train.columns, xgb.feature_importances_), key=lambda t:t[1], reverse=True)\n",
    "a, b = zip(*sorted_importance)\n",
    "plt.figure(figsize = (20,12))\n",
    "df = pd.DataFrame({'feature_name':a, 'importance_score':b})\n",
    "ax = sns.barplot(data = df, x = 'importance_score', y= 'feature_name', orient = 'h');\n",
    "plt.title('Top 10 Feature Importance with XG Boost')\n",
    "plt.xlabel('Feature Importance Score')\n",
    "plt.ylabel('Features')\n",
    "plt.ylim(bottom=(9.5,-0.5))"
   ]
  },
  {
   "cell_type": "code",
   "execution_count": null,
   "metadata": {},
   "outputs": [],
   "source": []
  },
  {
   "cell_type": "code",
   "execution_count": 17,
   "metadata": {},
   "outputs": [],
   "source": [
    "target = data_w['SalePrice']\n",
    "test_id = test['Id']\n",
    "test = test.drop(['Id'],axis = 1)\n",
    "data_w2 = data_w.drop(['SalePrice'], axis = 1)"
   ]
  },
  {
   "cell_type": "code",
   "execution_count": 18,
   "metadata": {},
   "outputs": [],
   "source": [
    "train_test = pd.concat([data_w2,test], axis=0, sort=False)"
   ]
  },
  {
   "cell_type": "code",
   "execution_count": 19,
   "metadata": {},
   "outputs": [
    {
     "data": {
      "text/html": [
       "<div>\n",
       "<style scoped>\n",
       "    .dataframe tbody tr th:only-of-type {\n",
       "        vertical-align: middle;\n",
       "    }\n",
       "\n",
       "    .dataframe tbody tr th {\n",
       "        vertical-align: top;\n",
       "    }\n",
       "\n",
       "    .dataframe thead th {\n",
       "        text-align: right;\n",
       "    }\n",
       "</style>\n",
       "<table border=\"1\" class=\"dataframe\">\n",
       "  <thead>\n",
       "    <tr style=\"text-align: right;\">\n",
       "      <th></th>\n",
       "      <th>NaN_sum</th>\n",
       "      <th>feat</th>\n",
       "      <th>Perc(%)</th>\n",
       "      <th>Usability</th>\n",
       "    </tr>\n",
       "  </thead>\n",
       "  <tbody>\n",
       "    <tr>\n",
       "      <th>Electrical</th>\n",
       "      <td>1</td>\n",
       "      <td>Electrical</td>\n",
       "      <td>0.068493</td>\n",
       "      <td>Keep</td>\n",
       "    </tr>\n",
       "    <tr>\n",
       "      <th>TotalBsmtSF</th>\n",
       "      <td>2</td>\n",
       "      <td>TotalBsmtSF</td>\n",
       "      <td>0.136986</td>\n",
       "      <td>Keep</td>\n",
       "    </tr>\n",
       "    <tr>\n",
       "      <th>GarageArea</th>\n",
       "      <td>2</td>\n",
       "      <td>GarageArea</td>\n",
       "      <td>0.136986</td>\n",
       "      <td>Keep</td>\n",
       "    </tr>\n",
       "    <tr>\n",
       "      <th>GarageCars</th>\n",
       "      <td>2</td>\n",
       "      <td>GarageCars</td>\n",
       "      <td>0.136986</td>\n",
       "      <td>Keep</td>\n",
       "    </tr>\n",
       "    <tr>\n",
       "      <th>KitchenQual</th>\n",
       "      <td>2</td>\n",
       "      <td>KitchenQual</td>\n",
       "      <td>0.136986</td>\n",
       "      <td>Keep</td>\n",
       "    </tr>\n",
       "    <tr>\n",
       "      <th>BsmtUnfSF</th>\n",
       "      <td>2</td>\n",
       "      <td>BsmtUnfSF</td>\n",
       "      <td>0.136986</td>\n",
       "      <td>Keep</td>\n",
       "    </tr>\n",
       "    <tr>\n",
       "      <th>BsmtFinSF2</th>\n",
       "      <td>2</td>\n",
       "      <td>BsmtFinSF2</td>\n",
       "      <td>0.136986</td>\n",
       "      <td>Keep</td>\n",
       "    </tr>\n",
       "    <tr>\n",
       "      <th>BsmtFinSF1</th>\n",
       "      <td>2</td>\n",
       "      <td>BsmtFinSF1</td>\n",
       "      <td>0.136986</td>\n",
       "      <td>Keep</td>\n",
       "    </tr>\n",
       "    <tr>\n",
       "      <th>SaleType</th>\n",
       "      <td>2</td>\n",
       "      <td>SaleType</td>\n",
       "      <td>0.136986</td>\n",
       "      <td>Keep</td>\n",
       "    </tr>\n",
       "    <tr>\n",
       "      <th>Exterior1st</th>\n",
       "      <td>2</td>\n",
       "      <td>Exterior1st</td>\n",
       "      <td>0.136986</td>\n",
       "      <td>Keep</td>\n",
       "    </tr>\n",
       "    <tr>\n",
       "      <th>Exterior2nd</th>\n",
       "      <td>2</td>\n",
       "      <td>Exterior2nd</td>\n",
       "      <td>0.136986</td>\n",
       "      <td>Keep</td>\n",
       "    </tr>\n",
       "    <tr>\n",
       "      <th>Utilities</th>\n",
       "      <td>4</td>\n",
       "      <td>Utilities</td>\n",
       "      <td>0.273973</td>\n",
       "      <td>Keep</td>\n",
       "    </tr>\n",
       "    <tr>\n",
       "      <th>Functional</th>\n",
       "      <td>4</td>\n",
       "      <td>Functional</td>\n",
       "      <td>0.273973</td>\n",
       "      <td>Keep</td>\n",
       "    </tr>\n",
       "    <tr>\n",
       "      <th>BsmtHalfBath</th>\n",
       "      <td>4</td>\n",
       "      <td>BsmtHalfBath</td>\n",
       "      <td>0.273973</td>\n",
       "      <td>Keep</td>\n",
       "    </tr>\n",
       "    <tr>\n",
       "      <th>BsmtFullBath</th>\n",
       "      <td>4</td>\n",
       "      <td>BsmtFullBath</td>\n",
       "      <td>0.273973</td>\n",
       "      <td>Keep</td>\n",
       "    </tr>\n",
       "    <tr>\n",
       "      <th>MSZoning</th>\n",
       "      <td>8</td>\n",
       "      <td>MSZoning</td>\n",
       "      <td>0.547945</td>\n",
       "      <td>Keep</td>\n",
       "    </tr>\n",
       "    <tr>\n",
       "      <th>MasVnrArea</th>\n",
       "      <td>38</td>\n",
       "      <td>MasVnrArea</td>\n",
       "      <td>2.602740</td>\n",
       "      <td>Keep</td>\n",
       "    </tr>\n",
       "    <tr>\n",
       "      <th>MasVnrType</th>\n",
       "      <td>40</td>\n",
       "      <td>MasVnrType</td>\n",
       "      <td>2.739726</td>\n",
       "      <td>Keep</td>\n",
       "    </tr>\n",
       "    <tr>\n",
       "      <th>BsmtFinType1</th>\n",
       "      <td>121</td>\n",
       "      <td>BsmtFinType1</td>\n",
       "      <td>8.287671</td>\n",
       "      <td>Keep</td>\n",
       "    </tr>\n",
       "    <tr>\n",
       "      <th>BsmtFinType2</th>\n",
       "      <td>122</td>\n",
       "      <td>BsmtFinType2</td>\n",
       "      <td>8.356164</td>\n",
       "      <td>Keep</td>\n",
       "    </tr>\n",
       "    <tr>\n",
       "      <th>BsmtQual</th>\n",
       "      <td>125</td>\n",
       "      <td>BsmtQual</td>\n",
       "      <td>8.561644</td>\n",
       "      <td>Keep</td>\n",
       "    </tr>\n",
       "    <tr>\n",
       "      <th>BsmtExposure</th>\n",
       "      <td>126</td>\n",
       "      <td>BsmtExposure</td>\n",
       "      <td>8.630137</td>\n",
       "      <td>Keep</td>\n",
       "    </tr>\n",
       "    <tr>\n",
       "      <th>BsmtCond</th>\n",
       "      <td>127</td>\n",
       "      <td>BsmtCond</td>\n",
       "      <td>8.698630</td>\n",
       "      <td>Keep</td>\n",
       "    </tr>\n",
       "    <tr>\n",
       "      <th>GarageType</th>\n",
       "      <td>233</td>\n",
       "      <td>GarageType</td>\n",
       "      <td>15.958904</td>\n",
       "      <td>Keep</td>\n",
       "    </tr>\n",
       "    <tr>\n",
       "      <th>GarageCond</th>\n",
       "      <td>237</td>\n",
       "      <td>GarageCond</td>\n",
       "      <td>16.232877</td>\n",
       "      <td>Keep</td>\n",
       "    </tr>\n",
       "    <tr>\n",
       "      <th>GarageQual</th>\n",
       "      <td>237</td>\n",
       "      <td>GarageQual</td>\n",
       "      <td>16.232877</td>\n",
       "      <td>Keep</td>\n",
       "    </tr>\n",
       "    <tr>\n",
       "      <th>GarageYrBlt</th>\n",
       "      <td>237</td>\n",
       "      <td>GarageYrBlt</td>\n",
       "      <td>16.232877</td>\n",
       "      <td>Keep</td>\n",
       "    </tr>\n",
       "    <tr>\n",
       "      <th>GarageFinish</th>\n",
       "      <td>237</td>\n",
       "      <td>GarageFinish</td>\n",
       "      <td>16.232877</td>\n",
       "      <td>Keep</td>\n",
       "    </tr>\n",
       "    <tr>\n",
       "      <th>LotFrontage</th>\n",
       "      <td>713</td>\n",
       "      <td>LotFrontage</td>\n",
       "      <td>48.835616</td>\n",
       "      <td>Discard</td>\n",
       "    </tr>\n",
       "    <tr>\n",
       "      <th>Id</th>\n",
       "      <td>1459</td>\n",
       "      <td>Id</td>\n",
       "      <td>99.931507</td>\n",
       "      <td>Discard</td>\n",
       "    </tr>\n",
       "    <tr>\n",
       "      <th>FireplaceQu</th>\n",
       "      <td>2150</td>\n",
       "      <td>FireplaceQu</td>\n",
       "      <td>147.260274</td>\n",
       "      <td>Discard</td>\n",
       "    </tr>\n",
       "    <tr>\n",
       "      <th>Fence</th>\n",
       "      <td>3517</td>\n",
       "      <td>Fence</td>\n",
       "      <td>240.890411</td>\n",
       "      <td>Discard</td>\n",
       "    </tr>\n",
       "    <tr>\n",
       "      <th>Alley</th>\n",
       "      <td>4073</td>\n",
       "      <td>Alley</td>\n",
       "      <td>278.972603</td>\n",
       "      <td>Discard</td>\n",
       "    </tr>\n",
       "    <tr>\n",
       "      <th>MiscFeature</th>\n",
       "      <td>4222</td>\n",
       "      <td>MiscFeature</td>\n",
       "      <td>289.178082</td>\n",
       "      <td>Discard</td>\n",
       "    </tr>\n",
       "    <tr>\n",
       "      <th>PoolQC</th>\n",
       "      <td>4365</td>\n",
       "      <td>PoolQC</td>\n",
       "      <td>298.972603</td>\n",
       "      <td>Discard</td>\n",
       "    </tr>\n",
       "  </tbody>\n",
       "</table>\n",
       "</div>"
      ],
      "text/plain": [
       "              NaN_sum          feat     Perc(%) Usability\n",
       "Electrical          1    Electrical    0.068493      Keep\n",
       "TotalBsmtSF         2   TotalBsmtSF    0.136986      Keep\n",
       "GarageArea          2    GarageArea    0.136986      Keep\n",
       "GarageCars          2    GarageCars    0.136986      Keep\n",
       "KitchenQual         2   KitchenQual    0.136986      Keep\n",
       "BsmtUnfSF           2     BsmtUnfSF    0.136986      Keep\n",
       "BsmtFinSF2          2    BsmtFinSF2    0.136986      Keep\n",
       "BsmtFinSF1          2    BsmtFinSF1    0.136986      Keep\n",
       "SaleType            2      SaleType    0.136986      Keep\n",
       "Exterior1st         2   Exterior1st    0.136986      Keep\n",
       "Exterior2nd         2   Exterior2nd    0.136986      Keep\n",
       "Utilities           4     Utilities    0.273973      Keep\n",
       "Functional          4    Functional    0.273973      Keep\n",
       "BsmtHalfBath        4  BsmtHalfBath    0.273973      Keep\n",
       "BsmtFullBath        4  BsmtFullBath    0.273973      Keep\n",
       "MSZoning            8      MSZoning    0.547945      Keep\n",
       "MasVnrArea         38    MasVnrArea    2.602740      Keep\n",
       "MasVnrType         40    MasVnrType    2.739726      Keep\n",
       "BsmtFinType1      121  BsmtFinType1    8.287671      Keep\n",
       "BsmtFinType2      122  BsmtFinType2    8.356164      Keep\n",
       "BsmtQual          125      BsmtQual    8.561644      Keep\n",
       "BsmtExposure      126  BsmtExposure    8.630137      Keep\n",
       "BsmtCond          127      BsmtCond    8.698630      Keep\n",
       "GarageType        233    GarageType   15.958904      Keep\n",
       "GarageCond        237    GarageCond   16.232877      Keep\n",
       "GarageQual        237    GarageQual   16.232877      Keep\n",
       "GarageYrBlt       237   GarageYrBlt   16.232877      Keep\n",
       "GarageFinish      237  GarageFinish   16.232877      Keep\n",
       "LotFrontage       713   LotFrontage   48.835616   Discard\n",
       "Id               1459            Id   99.931507   Discard\n",
       "FireplaceQu      2150   FireplaceQu  147.260274   Discard\n",
       "Fence            3517         Fence  240.890411   Discard\n",
       "Alley            4073         Alley  278.972603   Discard\n",
       "MiscFeature      4222   MiscFeature  289.178082   Discard\n",
       "PoolQC           4365        PoolQC  298.972603   Discard"
      ]
     },
     "execution_count": 19,
     "metadata": {},
     "output_type": "execute_result"
    }
   ],
   "source": [
    "nan = pd.DataFrame(train_test.isna().sum(), columns = ['NaN_sum'])\n",
    "nan['feat'] = nan.index\n",
    "nan['Perc(%)'] = (nan['NaN_sum']/1460)*100\n",
    "nan = nan[nan['NaN_sum'] > 0]\n",
    "nan = nan.sort_values(by = ['NaN_sum'])\n",
    "nan['Usability'] = np.where(nan['Perc(%)'] > 20, 'Discard', 'Keep')\n",
    "nan"
   ]
  },
  {
   "cell_type": "code",
   "execution_count": 20,
   "metadata": {},
   "outputs": [
    {
     "name": "stdout",
     "output_type": "stream",
     "text": [
      "0       1.0\n",
      "0    1461.0\n",
      "0       NaN\n",
      "Name: Id, dtype: float64\n",
      "0    RL\n",
      "0    RH\n",
      "0    RH\n",
      "Name: MSZoning, dtype: object\n",
      "0    65.0\n",
      "0    80.0\n",
      "0    80.0\n",
      "Name: LotFrontage, dtype: float64\n",
      "0    AllPub\n",
      "0    AllPub\n",
      "0    AllPub\n",
      "Name: Utilities, dtype: object\n",
      "0    BrkFace\n",
      "0       None\n",
      "0       None\n",
      "Name: MasVnrType, dtype: object\n",
      "0    196.0\n",
      "0      0.0\n",
      "0      0.0\n",
      "Name: MasVnrArea, dtype: float64\n",
      "0    706.0\n",
      "0    468.0\n",
      "0    468.0\n",
      "Name: BsmtFinSF1, dtype: float64\n",
      "0      0.0\n",
      "0    144.0\n",
      "0    144.0\n",
      "Name: BsmtFinSF2, dtype: float64\n",
      "0    150.0\n",
      "0    270.0\n",
      "0    270.0\n",
      "Name: BsmtUnfSF, dtype: float64\n",
      "0    856.0\n",
      "0    882.0\n",
      "0    882.0\n",
      "Name: TotalBsmtSF, dtype: float64\n",
      "0    1.0\n",
      "0    0.0\n",
      "0    0.0\n",
      "Name: BsmtFullBath, dtype: float64\n",
      "0    0.0\n",
      "0    0.0\n",
      "0    0.0\n",
      "Name: BsmtHalfBath, dtype: float64\n",
      "0    2003.0\n",
      "0    1961.0\n",
      "0    1961.0\n",
      "Name: GarageYrBlt, dtype: float64\n"
     ]
    }
   ],
   "source": [
    "\n",
    "train_test['MSSubClass'] = train_test['MSSubClass'].apply(str)\n",
    "train_test['YrSold'] = train_test['YrSold'].apply(str)\n",
    "train_test['MoSold'] = train_test['MoSold'].apply(str)\n",
    "\n",
    "# Filling Categorical NaN (That we know how to fill due to the description file )\n",
    "\n",
    "train_test['Functional'] = train_test['Functional'].fillna('Typ')\n",
    "train_test['Electrical'] = train_test['Electrical'].fillna(\"SBrkr\")\n",
    "train_test['KitchenQual'] = train_test['KitchenQual'].fillna(\"TA\")\n",
    "train_test['Exterior1st'] = train_test['Exterior1st'].fillna(train_test['Exterior1st'].mode()[0])\n",
    "train_test['Exterior2nd'] = train_test['Exterior2nd'].fillna(train_test['Exterior2nd'].mode()[0])\n",
    "train_test['SaleType'] = train_test['SaleType'].fillna(train_test['SaleType'].mode()[0])\n",
    "train_test[\"PoolQC\"] = train_test[\"PoolQC\"].fillna(\"None\")\n",
    "train_test[\"Alley\"] = train_test[\"Alley\"].fillna(\"None\")\n",
    "train_test['FireplaceQu'] = train_test['FireplaceQu'].fillna(\"None\")\n",
    "train_test['Fence'] = train_test['Fence'].fillna(\"None\")\n",
    "train_test['MiscFeature'] = train_test['MiscFeature'].fillna(\"None\")\n",
    "\n",
    "for col in ('GarageArea', 'GarageCars'):\n",
    "    train_test[col] = train_test[col].fillna(0)\n",
    "        \n",
    "for col in ['GarageType', 'GarageFinish', 'GarageQual', 'GarageCond']:\n",
    "    train_test[col] = train_test[col].fillna('None')\n",
    "    \n",
    "for col in ('BsmtQual', 'BsmtCond', 'BsmtExposure', 'BsmtFinType1', 'BsmtFinType2'):\n",
    "    train_test[col] = train_test[col].fillna('None')\n",
    "    \n",
    "    # Checking the features with NaN remained out\n",
    "\n",
    "for col in train_test:\n",
    "    if train_test[col].isna().sum() > 0:\n",
    "        print(train_test[col][0])"
   ]
  },
  {
   "cell_type": "code",
   "execution_count": 21,
   "metadata": {},
   "outputs": [],
   "source": [
    "from sklearn.neighbors import KNeighborsRegressor\n",
    "useless = ['GarageYrBlt','YearRemodAdd'] \n",
    "train_test = train_test.drop(useless, axis = 1)\n",
    "\n",
    "# Imputing with KnnRegressor (we can also use different Imputers)\n",
    "\n",
    "def impute_knn(df):\n",
    "    ttn = train_test.select_dtypes(include=[np.number])\n",
    "    ttc = train_test.select_dtypes(exclude=[np.number])\n",
    "\n",
    "    cols_nan = ttn.columns[ttn.isna().any()].tolist()         # columns w/ nan \n",
    "    cols_no_nan = ttn.columns.difference(cols_nan).values     # columns w/n nan\n",
    "\n",
    "    for col in cols_nan:\n",
    "        imp_test = ttn[ttn[col].isna()]   # indicies which have missing data will become our test set\n",
    "        imp_train = ttn.dropna()          # all indicies which which have no missing data \n",
    "        model = KNeighborsRegressor(n_neighbors=5)  # KNR Unsupervised Approach\n",
    "        knr = model.fit(imp_train[cols_no_nan], imp_train[col])\n",
    "        ttn.loc[ttn[col].isna(), col] = knr.predict(imp_test[cols_no_nan])\n",
    "    \n",
    "    return pd.concat([ttn,ttc],axis=1)\n",
    "\n",
    "train_test = impute_knn(train_test)\n",
    "\n",
    "\n",
    "objects = []\n",
    "for i in train_test.columns:\n",
    "    if train_test[i].dtype == object:\n",
    "        objects.append(i)\n",
    "train_test.update(train_test[objects].fillna('None'))\n",
    "\n",
    "# # Checking NaN presence\n",
    "\n",
    "for col in train_test:\n",
    "    if train_test[col].isna().sum() > 0:\n",
    "        print(train_test[col][0])"
   ]
  },
  {
   "cell_type": "code",
   "execution_count": 24,
   "metadata": {},
   "outputs": [],
   "source": [
    "from scipy.stats import skew, norm\n",
    "train_test[\"SqFtPerRoom\"] = train_test[\"GrLivArea\"] / (train_test[\"TotRmsAbvGrd\"] +\n",
    "                                                       train_test[\"FullBath\"] +\n",
    "                                                       train_test[\"HalfBath\"] +\n",
    "                                                       train_test[\"KitchenAbvGr\"])\n",
    "\n",
    "train_test['Total_Home_Quality'] = train_test['OverallQual'] + train_test['OverallCond']\n",
    "\n",
    "train_test['Total_Bathrooms'] = (train_test['FullBath'] + (0.5 * train_test['HalfBath']) +\n",
    "                               train_test['BsmtFullBath'] + (0.5 * train_test['BsmtHalfBath']))\n",
    "\n",
    "train_test[\"HighQualSF\"] = train_test[\"1stFlrSF\"] + train_test[\"2ndFlrSF\"]\n",
    "\n",
    "# Converting non-numeric predictors stored as numbers into string\n",
    "\n",
    "train_test['MSSubClass'] = train_test['MSSubClass'].apply(str)\n",
    "train_test['YrSold'] = train_test['YrSold'].apply(str)\n",
    "train_test['MoSold'] = train_test['MoSold'].apply(str)\n",
    "\n",
    "# Creating dummy variables from categorical features\n",
    "\n",
    "train_test_dummy = pd.get_dummies(train_test)\n",
    "\n",
    "# Fetch all numeric features\n",
    "\n",
    "#train_test['Id'] = train_test['Id'].apply(str)\n",
    "numeric_features = train_test_dummy.dtypes[train_test_dummy.dtypes != object].index\n",
    "skewed_features = train_test_dummy[numeric_features].apply(lambda x: skew(x)).sort_values(ascending=False)\n",
    "high_skew = skewed_features[skewed_features > 0.5]\n",
    "skew_index = high_skew.index\n",
    "\n",
    "# Normalize skewed features using log_transformation\n",
    "    \n",
    "for i in skew_index:\n",
    "    train_test_dummy[i] = np.log1p(train_test_dummy[i])"
   ]
  },
  {
   "cell_type": "code",
   "execution_count": 27,
   "metadata": {},
   "outputs": [],
   "source": [
    "target_log = np.log1p(target)\n"
   ]
  },
  {
   "cell_type": "code",
   "execution_count": 31,
   "metadata": {},
   "outputs": [],
   "source": [
    "import xgboost as xgb\n",
    "from catboost import Pool\n",
    "from sklearn.svm import SVR\n",
    "from catboost import CatBoostRegressor\n",
    "from sklearn.naive_bayes import GaussianNB\n",
    "from sklearn.tree import DecisionTreeRegressor\n",
    "from mlxtend.regressor import StackingRegressor\n",
    "from sklearn.linear_model import LinearRegression, BayesianRidge\n",
    "from sklearn.model_selection import RepeatedKFold\n",
    "from sklearn.model_selection import KFold, cross_val_score\n",
    "from sklearn.model_selection import train_test_split\n",
    "from sklearn.ensemble import GradientBoostingRegressor, RandomForestRegressor\n",
    "from sklearn.model_selection import GridSearchCV, RandomizedSearchCV\n",
    "from sklearn.metrics import mean_squared_error, mean_absolute_error, mean_squared_log_error"
   ]
  },
  {
   "cell_type": "code",
   "execution_count": 32,
   "metadata": {},
   "outputs": [],
   "source": [
    "\n",
    "train = train_test_dummy[0:2930]\n",
    "test = train_test_dummy[2930:]\n",
    "test['Id'] = test_id\n",
    "\n",
    "# Creation of the RMSE metric:\n",
    "    \n",
    "def rmse(y, y_pred):\n",
    "    return np.sqrt(mean_squared_error(y, y_pred))\n",
    "\n",
    "def cv_rmse(model):\n",
    "    rmse = np.sqrt(-cross_val_score(model, train, target_log, scoring=\"neg_mean_squared_error\", cv=kf))\n",
    "    return (rmse)"
   ]
  },
  {
   "cell_type": "code",
   "execution_count": 38,
   "metadata": {},
   "outputs": [
    {
     "ename": "ValueError",
     "evalue": "Found input variables with inconsistent numbers of samples: [2930, 2919]",
     "output_type": "error",
     "traceback": [
      "\u001b[0;31m---------------------------------------------------------------------------\u001b[0m",
      "\u001b[0;31mValueError\u001b[0m                                Traceback (most recent call last)",
      "\u001b[0;32m<ipython-input-38-2d15e3a7f6cd>\u001b[0m in \u001b[0;36m<module>\u001b[0;34m\u001b[0m\n\u001b[1;32m     21\u001b[0m \u001b[0;34m\u001b[0m\u001b[0m\n\u001b[1;32m     22\u001b[0m \u001b[0msvr\u001b[0m \u001b[0;34m=\u001b[0m \u001b[0mSVR\u001b[0m\u001b[0;34m(\u001b[0m\u001b[0;34m)\u001b[0m\u001b[0;34m\u001b[0m\u001b[0;34m\u001b[0m\u001b[0m\n\u001b[0;32m---> 23\u001b[0;31m \u001b[0mscore_svr\u001b[0m \u001b[0;34m=\u001b[0m \u001b[0mcv_rmse\u001b[0m\u001b[0;34m(\u001b[0m\u001b[0msvr\u001b[0m\u001b[0;34m)\u001b[0m\u001b[0;34m\u001b[0m\u001b[0;34m\u001b[0m\u001b[0m\n\u001b[0m\u001b[1;32m     24\u001b[0m \u001b[0mcv_scores\u001b[0m\u001b[0;34m.\u001b[0m\u001b[0mappend\u001b[0m\u001b[0;34m(\u001b[0m\u001b[0mscore_svr\u001b[0m\u001b[0;34m.\u001b[0m\u001b[0mmean\u001b[0m\u001b[0;34m(\u001b[0m\u001b[0;34m)\u001b[0m\u001b[0;34m)\u001b[0m\u001b[0;34m\u001b[0m\u001b[0;34m\u001b[0m\u001b[0m\n\u001b[1;32m     25\u001b[0m \u001b[0mcv_std\u001b[0m\u001b[0;34m.\u001b[0m\u001b[0mappend\u001b[0m\u001b[0;34m(\u001b[0m\u001b[0mscore_svr\u001b[0m\u001b[0;34m.\u001b[0m\u001b[0mstd\u001b[0m\u001b[0;34m(\u001b[0m\u001b[0;34m)\u001b[0m\u001b[0;34m)\u001b[0m\u001b[0;34m\u001b[0m\u001b[0;34m\u001b[0m\u001b[0m\n",
      "\u001b[0;32m<ipython-input-32-aec347dcbff6>\u001b[0m in \u001b[0;36mcv_rmse\u001b[0;34m(model)\u001b[0m\n\u001b[1;32m      9\u001b[0m \u001b[0;34m\u001b[0m\u001b[0m\n\u001b[1;32m     10\u001b[0m \u001b[0;32mdef\u001b[0m \u001b[0mcv_rmse\u001b[0m\u001b[0;34m(\u001b[0m\u001b[0mmodel\u001b[0m\u001b[0;34m)\u001b[0m\u001b[0;34m:\u001b[0m\u001b[0;34m\u001b[0m\u001b[0;34m\u001b[0m\u001b[0m\n\u001b[0;32m---> 11\u001b[0;31m     \u001b[0mrmse\u001b[0m \u001b[0;34m=\u001b[0m \u001b[0mnp\u001b[0m\u001b[0;34m.\u001b[0m\u001b[0msqrt\u001b[0m\u001b[0;34m(\u001b[0m\u001b[0;34m-\u001b[0m\u001b[0mcross_val_score\u001b[0m\u001b[0;34m(\u001b[0m\u001b[0mmodel\u001b[0m\u001b[0;34m,\u001b[0m \u001b[0mtrain\u001b[0m\u001b[0;34m,\u001b[0m \u001b[0mtarget_log\u001b[0m\u001b[0;34m,\u001b[0m \u001b[0mscoring\u001b[0m\u001b[0;34m=\u001b[0m\u001b[0;34m\"neg_mean_squared_error\"\u001b[0m\u001b[0;34m,\u001b[0m \u001b[0mcv\u001b[0m\u001b[0;34m=\u001b[0m\u001b[0mkf\u001b[0m\u001b[0;34m)\u001b[0m\u001b[0;34m)\u001b[0m\u001b[0;34m\u001b[0m\u001b[0;34m\u001b[0m\u001b[0m\n\u001b[0m\u001b[1;32m     12\u001b[0m     \u001b[0;32mreturn\u001b[0m \u001b[0;34m(\u001b[0m\u001b[0mrmse\u001b[0m\u001b[0;34m)\u001b[0m\u001b[0;34m\u001b[0m\u001b[0;34m\u001b[0m\u001b[0m\n",
      "\u001b[0;32m~/opt/anaconda3/lib/python3.8/site-packages/sklearn/utils/validation.py\u001b[0m in \u001b[0;36minner_f\u001b[0;34m(*args, **kwargs)\u001b[0m\n\u001b[1;32m     70\u001b[0m                           FutureWarning)\n\u001b[1;32m     71\u001b[0m         \u001b[0mkwargs\u001b[0m\u001b[0;34m.\u001b[0m\u001b[0mupdate\u001b[0m\u001b[0;34m(\u001b[0m\u001b[0;34m{\u001b[0m\u001b[0mk\u001b[0m\u001b[0;34m:\u001b[0m \u001b[0marg\u001b[0m \u001b[0;32mfor\u001b[0m \u001b[0mk\u001b[0m\u001b[0;34m,\u001b[0m \u001b[0marg\u001b[0m \u001b[0;32min\u001b[0m \u001b[0mzip\u001b[0m\u001b[0;34m(\u001b[0m\u001b[0msig\u001b[0m\u001b[0;34m.\u001b[0m\u001b[0mparameters\u001b[0m\u001b[0;34m,\u001b[0m \u001b[0margs\u001b[0m\u001b[0;34m)\u001b[0m\u001b[0;34m}\u001b[0m\u001b[0;34m)\u001b[0m\u001b[0;34m\u001b[0m\u001b[0;34m\u001b[0m\u001b[0m\n\u001b[0;32m---> 72\u001b[0;31m         \u001b[0;32mreturn\u001b[0m \u001b[0mf\u001b[0m\u001b[0;34m(\u001b[0m\u001b[0;34m**\u001b[0m\u001b[0mkwargs\u001b[0m\u001b[0;34m)\u001b[0m\u001b[0;34m\u001b[0m\u001b[0;34m\u001b[0m\u001b[0m\n\u001b[0m\u001b[1;32m     73\u001b[0m     \u001b[0;32mreturn\u001b[0m \u001b[0minner_f\u001b[0m\u001b[0;34m\u001b[0m\u001b[0;34m\u001b[0m\u001b[0m\n\u001b[1;32m     74\u001b[0m \u001b[0;34m\u001b[0m\u001b[0m\n",
      "\u001b[0;32m~/opt/anaconda3/lib/python3.8/site-packages/sklearn/model_selection/_validation.py\u001b[0m in \u001b[0;36mcross_val_score\u001b[0;34m(estimator, X, y, groups, scoring, cv, n_jobs, verbose, fit_params, pre_dispatch, error_score)\u001b[0m\n\u001b[1;32m    399\u001b[0m     \u001b[0mscorer\u001b[0m \u001b[0;34m=\u001b[0m \u001b[0mcheck_scoring\u001b[0m\u001b[0;34m(\u001b[0m\u001b[0mestimator\u001b[0m\u001b[0;34m,\u001b[0m \u001b[0mscoring\u001b[0m\u001b[0;34m=\u001b[0m\u001b[0mscoring\u001b[0m\u001b[0;34m)\u001b[0m\u001b[0;34m\u001b[0m\u001b[0;34m\u001b[0m\u001b[0m\n\u001b[1;32m    400\u001b[0m \u001b[0;34m\u001b[0m\u001b[0m\n\u001b[0;32m--> 401\u001b[0;31m     cv_results = cross_validate(estimator=estimator, X=X, y=y, groups=groups,\n\u001b[0m\u001b[1;32m    402\u001b[0m                                 \u001b[0mscoring\u001b[0m\u001b[0;34m=\u001b[0m\u001b[0;34m{\u001b[0m\u001b[0;34m'score'\u001b[0m\u001b[0;34m:\u001b[0m \u001b[0mscorer\u001b[0m\u001b[0;34m}\u001b[0m\u001b[0;34m,\u001b[0m \u001b[0mcv\u001b[0m\u001b[0;34m=\u001b[0m\u001b[0mcv\u001b[0m\u001b[0;34m,\u001b[0m\u001b[0;34m\u001b[0m\u001b[0;34m\u001b[0m\u001b[0m\n\u001b[1;32m    403\u001b[0m                                 \u001b[0mn_jobs\u001b[0m\u001b[0;34m=\u001b[0m\u001b[0mn_jobs\u001b[0m\u001b[0;34m,\u001b[0m \u001b[0mverbose\u001b[0m\u001b[0;34m=\u001b[0m\u001b[0mverbose\u001b[0m\u001b[0;34m,\u001b[0m\u001b[0;34m\u001b[0m\u001b[0;34m\u001b[0m\u001b[0m\n",
      "\u001b[0;32m~/opt/anaconda3/lib/python3.8/site-packages/sklearn/utils/validation.py\u001b[0m in \u001b[0;36minner_f\u001b[0;34m(*args, **kwargs)\u001b[0m\n\u001b[1;32m     70\u001b[0m                           FutureWarning)\n\u001b[1;32m     71\u001b[0m         \u001b[0mkwargs\u001b[0m\u001b[0;34m.\u001b[0m\u001b[0mupdate\u001b[0m\u001b[0;34m(\u001b[0m\u001b[0;34m{\u001b[0m\u001b[0mk\u001b[0m\u001b[0;34m:\u001b[0m \u001b[0marg\u001b[0m \u001b[0;32mfor\u001b[0m \u001b[0mk\u001b[0m\u001b[0;34m,\u001b[0m \u001b[0marg\u001b[0m \u001b[0;32min\u001b[0m \u001b[0mzip\u001b[0m\u001b[0;34m(\u001b[0m\u001b[0msig\u001b[0m\u001b[0;34m.\u001b[0m\u001b[0mparameters\u001b[0m\u001b[0;34m,\u001b[0m \u001b[0margs\u001b[0m\u001b[0;34m)\u001b[0m\u001b[0;34m}\u001b[0m\u001b[0;34m)\u001b[0m\u001b[0;34m\u001b[0m\u001b[0;34m\u001b[0m\u001b[0m\n\u001b[0;32m---> 72\u001b[0;31m         \u001b[0;32mreturn\u001b[0m \u001b[0mf\u001b[0m\u001b[0;34m(\u001b[0m\u001b[0;34m**\u001b[0m\u001b[0mkwargs\u001b[0m\u001b[0;34m)\u001b[0m\u001b[0;34m\u001b[0m\u001b[0;34m\u001b[0m\u001b[0m\n\u001b[0m\u001b[1;32m     73\u001b[0m     \u001b[0;32mreturn\u001b[0m \u001b[0minner_f\u001b[0m\u001b[0;34m\u001b[0m\u001b[0;34m\u001b[0m\u001b[0m\n\u001b[1;32m     74\u001b[0m \u001b[0;34m\u001b[0m\u001b[0m\n",
      "\u001b[0;32m~/opt/anaconda3/lib/python3.8/site-packages/sklearn/model_selection/_validation.py\u001b[0m in \u001b[0;36mcross_validate\u001b[0;34m(estimator, X, y, groups, scoring, cv, n_jobs, verbose, fit_params, pre_dispatch, return_train_score, return_estimator, error_score)\u001b[0m\n\u001b[1;32m    231\u001b[0m \u001b[0;34m\u001b[0m\u001b[0m\n\u001b[1;32m    232\u001b[0m     \"\"\"\n\u001b[0;32m--> 233\u001b[0;31m     \u001b[0mX\u001b[0m\u001b[0;34m,\u001b[0m \u001b[0my\u001b[0m\u001b[0;34m,\u001b[0m \u001b[0mgroups\u001b[0m \u001b[0;34m=\u001b[0m \u001b[0mindexable\u001b[0m\u001b[0;34m(\u001b[0m\u001b[0mX\u001b[0m\u001b[0;34m,\u001b[0m \u001b[0my\u001b[0m\u001b[0;34m,\u001b[0m \u001b[0mgroups\u001b[0m\u001b[0;34m)\u001b[0m\u001b[0;34m\u001b[0m\u001b[0;34m\u001b[0m\u001b[0m\n\u001b[0m\u001b[1;32m    234\u001b[0m \u001b[0;34m\u001b[0m\u001b[0m\n\u001b[1;32m    235\u001b[0m     \u001b[0mcv\u001b[0m \u001b[0;34m=\u001b[0m \u001b[0mcheck_cv\u001b[0m\u001b[0;34m(\u001b[0m\u001b[0mcv\u001b[0m\u001b[0;34m,\u001b[0m \u001b[0my\u001b[0m\u001b[0;34m,\u001b[0m \u001b[0mclassifier\u001b[0m\u001b[0;34m=\u001b[0m\u001b[0mis_classifier\u001b[0m\u001b[0;34m(\u001b[0m\u001b[0mestimator\u001b[0m\u001b[0;34m)\u001b[0m\u001b[0;34m)\u001b[0m\u001b[0;34m\u001b[0m\u001b[0;34m\u001b[0m\u001b[0m\n",
      "\u001b[0;32m~/opt/anaconda3/lib/python3.8/site-packages/sklearn/utils/validation.py\u001b[0m in \u001b[0;36mindexable\u001b[0;34m(*iterables)\u001b[0m\n\u001b[1;32m    290\u001b[0m     \"\"\"\n\u001b[1;32m    291\u001b[0m     \u001b[0mresult\u001b[0m \u001b[0;34m=\u001b[0m \u001b[0;34m[\u001b[0m\u001b[0m_make_indexable\u001b[0m\u001b[0;34m(\u001b[0m\u001b[0mX\u001b[0m\u001b[0;34m)\u001b[0m \u001b[0;32mfor\u001b[0m \u001b[0mX\u001b[0m \u001b[0;32min\u001b[0m \u001b[0miterables\u001b[0m\u001b[0;34m]\u001b[0m\u001b[0;34m\u001b[0m\u001b[0;34m\u001b[0m\u001b[0m\n\u001b[0;32m--> 292\u001b[0;31m     \u001b[0mcheck_consistent_length\u001b[0m\u001b[0;34m(\u001b[0m\u001b[0;34m*\u001b[0m\u001b[0mresult\u001b[0m\u001b[0;34m)\u001b[0m\u001b[0;34m\u001b[0m\u001b[0;34m\u001b[0m\u001b[0m\n\u001b[0m\u001b[1;32m    293\u001b[0m     \u001b[0;32mreturn\u001b[0m \u001b[0mresult\u001b[0m\u001b[0;34m\u001b[0m\u001b[0;34m\u001b[0m\u001b[0m\n\u001b[1;32m    294\u001b[0m \u001b[0;34m\u001b[0m\u001b[0m\n",
      "\u001b[0;32m~/opt/anaconda3/lib/python3.8/site-packages/sklearn/utils/validation.py\u001b[0m in \u001b[0;36mcheck_consistent_length\u001b[0;34m(*arrays)\u001b[0m\n\u001b[1;32m    253\u001b[0m     \u001b[0muniques\u001b[0m \u001b[0;34m=\u001b[0m \u001b[0mnp\u001b[0m\u001b[0;34m.\u001b[0m\u001b[0munique\u001b[0m\u001b[0;34m(\u001b[0m\u001b[0mlengths\u001b[0m\u001b[0;34m)\u001b[0m\u001b[0;34m\u001b[0m\u001b[0;34m\u001b[0m\u001b[0m\n\u001b[1;32m    254\u001b[0m     \u001b[0;32mif\u001b[0m \u001b[0mlen\u001b[0m\u001b[0;34m(\u001b[0m\u001b[0muniques\u001b[0m\u001b[0;34m)\u001b[0m \u001b[0;34m>\u001b[0m \u001b[0;36m1\u001b[0m\u001b[0;34m:\u001b[0m\u001b[0;34m\u001b[0m\u001b[0;34m\u001b[0m\u001b[0m\n\u001b[0;32m--> 255\u001b[0;31m         raise ValueError(\"Found input variables with inconsistent numbers of\"\n\u001b[0m\u001b[1;32m    256\u001b[0m                          \" samples: %r\" % [int(l) for l in lengths])\n\u001b[1;32m    257\u001b[0m \u001b[0;34m\u001b[0m\u001b[0m\n",
      "\u001b[0;31mValueError\u001b[0m: Found input variables with inconsistent numbers of samples: [2930, 2919]"
     ]
    }
   ],
   "source": [
    "# 10 Fold Cross validation\n",
    "\n",
    "kf = KFold(n_splits=10, random_state=42, shuffle=True)\n",
    "\n",
    "cv_scores = []\n",
    "cv_std = []\n",
    "\n",
    "baseline_models = ['Linear_Reg.','SVR',\n",
    "                   'Dec_Tree_Reg.','Random_Forest_Reg.', 'XGB_Reg.',\n",
    "                   'Grad_Boost_Reg.','Cat_Boost_Reg.','Stacked_Reg.']\n",
    "\n",
    "# Linear Regression\n",
    "\n",
    "# lreg = LinearRegression()\n",
    "# score_lreg = cv_rmse(lreg)\n",
    "# cv_scores.append(score_lreg.mean())\n",
    "# cv_std.append(score_lreg.std())\n",
    "\n",
    "\n",
    "# Support Vector Regression\n",
    "\n",
    "svr = SVR()\n",
    "score_svr = cv_rmse(svr)\n",
    "cv_scores.append(score_svr.mean())\n",
    "cv_std.append(score_svr.std())\n",
    "\n",
    "# Decision Tree Regressor\n",
    "\n",
    "dtr = DecisionTreeRegressor()\n",
    "score_dtr = cv_rmse(dtr)\n",
    "cv_scores.append(score_dtr.mean())\n",
    "cv_std.append(score_dtr.std())\n",
    "\n",
    "# Random Forest Regressor\n",
    "\n",
    "rfr = RandomForestRegressor()\n",
    "score_rfr = cv_rmse(rfr)\n",
    "cv_scores.append(score_rfr.mean())\n",
    "cv_std.append(score_rfr.std())\n",
    "\n",
    "# XGB Regressor\n",
    "\n",
    "xgb = xgb.XGBRegressor()\n",
    "score_xgb = cv_rmse(xgb)\n",
    "cv_scores.append(score_xgb.mean())\n",
    "cv_std.append(score_xgb.std())\n",
    "\n",
    "# Gradient Boost Regressor\n",
    "\n",
    "gbr = GradientBoostingRegressor()\n",
    "score_gbr = cv_rmse(gbr)\n",
    "cv_scores.append(score_gbr.mean())\n",
    "cv_std.append(score_gbr.std())\n",
    "\n",
    "# Cat Boost Regressor\n",
    "\n",
    "catb = CatBoostRegressor()\n",
    "score_catb = cv_rmse(catb)\n",
    "cv_scores.append(score_catb.mean())\n",
    "cv_std.append(score_catb.std())\n",
    "\n",
    "# Stacked Regressor\n",
    "\n",
    "stack_gen = StackingRegressor(regressors=(CatBoostRegressor(),\n",
    "                                          LinearRegression(),\n",
    "                                          BayesianRidge(),\n",
    "                                          GradientBoostingRegressor()),\n",
    "                              meta_regressor = CatBoostRegressor(),\n",
    "                              use_features_in_secondary = True)\n",
    "\n",
    "score_stack_gen = cv_rmse(stack_gen)\n",
    "cv_scores.append(score_stack_gen.mean())\n",
    "cv_std.append(score_stack_gen.std())\n",
    "\n",
    "final_cv_score = pd.DataFrame(baseline_models, columns = ['Regressors'])\n",
    "final_cv_score['RMSE_mean'] = cv_scores\n",
    "final_cv_score['RMSE_std'] = cv_std"
   ]
  },
  {
   "cell_type": "code",
   "execution_count": null,
   "metadata": {},
   "outputs": [],
   "source": []
  }
 ],
 "metadata": {
  "kernelspec": {
   "display_name": "Python 3",
   "language": "python",
   "name": "python3"
  },
  "language_info": {
   "codemirror_mode": {
    "name": "ipython",
    "version": 3
   },
   "file_extension": ".py",
   "mimetype": "text/x-python",
   "name": "python",
   "nbconvert_exporter": "python",
   "pygments_lexer": "ipython3",
   "version": "3.8.5"
  }
 },
 "nbformat": 4,
 "nbformat_minor": 4
}
